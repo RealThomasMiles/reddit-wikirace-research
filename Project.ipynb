{
 "cells": [
  {
   "cell_type": "code",
   "execution_count": 6,
   "id": "2cf6f600",
   "metadata": {},
   "outputs": [
    {
     "data": {
      "text/html": [
       "<div>\n",
       "<style scoped>\n",
       "    .dataframe tbody tr th:only-of-type {\n",
       "        vertical-align: middle;\n",
       "    }\n",
       "\n",
       "    .dataframe tbody tr th {\n",
       "        vertical-align: top;\n",
       "    }\n",
       "\n",
       "    .dataframe thead th {\n",
       "        text-align: right;\n",
       "    }\n",
       "</style>\n",
       "<table border=\"1\" class=\"dataframe\">\n",
       "  <thead>\n",
       "    <tr style=\"text-align: right;\">\n",
       "      <th></th>\n",
       "      <th>SOURCE_SUBREDDIT</th>\n",
       "      <th>TARGET_SUBREDDIT</th>\n",
       "      <th>POST_ID</th>\n",
       "      <th>TIMESTAMP</th>\n",
       "      <th>LINK_SENTIMENT</th>\n",
       "      <th>PROPERTIES</th>\n",
       "    </tr>\n",
       "  </thead>\n",
       "  <tbody>\n",
       "    <tr>\n",
       "      <th>0</th>\n",
       "      <td>rddtgaming</td>\n",
       "      <td>rddtrust</td>\n",
       "      <td>1u4pzzs</td>\n",
       "      <td>2013-12-31 16:39:18</td>\n",
       "      <td>1</td>\n",
       "      <td>25.0,23.0,0.76,0.0,0.44,0.12,0.12,4.0,4.0,0.0,...</td>\n",
       "    </tr>\n",
       "    <tr>\n",
       "      <th>1</th>\n",
       "      <td>xboxone</td>\n",
       "      <td>battlefield_4</td>\n",
       "      <td>1u4tmfs</td>\n",
       "      <td>2013-12-31 17:59:11</td>\n",
       "      <td>1</td>\n",
       "      <td>100.0,88.0,0.78,0.02,0.08,0.13,0.07,16.0,16.0,...</td>\n",
       "    </tr>\n",
       "    <tr>\n",
       "      <th>2</th>\n",
       "      <td>ps4</td>\n",
       "      <td>battlefield_4</td>\n",
       "      <td>1u4tmos</td>\n",
       "      <td>2013-12-31 17:59:40</td>\n",
       "      <td>1</td>\n",
       "      <td>100.0,88.0,0.78,0.02,0.08,0.13,0.07,16.0,16.0,...</td>\n",
       "    </tr>\n",
       "    <tr>\n",
       "      <th>3</th>\n",
       "      <td>fitnesscirclejerk</td>\n",
       "      <td>leangains</td>\n",
       "      <td>1u50xfs</td>\n",
       "      <td>2013-12-31 19:01:56</td>\n",
       "      <td>1</td>\n",
       "      <td>49.0,43.0,0.775510204082,0.0,0.265306122449,0....</td>\n",
       "    </tr>\n",
       "    <tr>\n",
       "      <th>4</th>\n",
       "      <td>fitnesscirclejerk</td>\n",
       "      <td>lifeprotips</td>\n",
       "      <td>1u51nps</td>\n",
       "      <td>2013-12-31 21:02:28</td>\n",
       "      <td>1</td>\n",
       "      <td>14.0,14.0,0.785714285714,0.0,0.428571428571,0....</td>\n",
       "    </tr>\n",
       "    <tr>\n",
       "      <th>...</th>\n",
       "      <td>...</td>\n",
       "      <td>...</td>\n",
       "      <td>...</td>\n",
       "      <td>...</td>\n",
       "      <td>...</td>\n",
       "      <td>...</td>\n",
       "    </tr>\n",
       "    <tr>\n",
       "      <th>571922</th>\n",
       "      <td>seattleshitshow</td>\n",
       "      <td>seattlewa</td>\n",
       "      <td>68iptp</td>\n",
       "      <td>2017-04-27 11:07:31</td>\n",
       "      <td>-1</td>\n",
       "      <td>83.0,70.0,0.78313253012,0.0,0.10843373494,0.16...</td>\n",
       "    </tr>\n",
       "    <tr>\n",
       "      <th>571923</th>\n",
       "      <td>peoplewhosayheck</td>\n",
       "      <td>spiderman</td>\n",
       "      <td>68iqh6s</td>\n",
       "      <td>2017-04-30 16:36:07</td>\n",
       "      <td>1</td>\n",
       "      <td>121.0,105.0,0.719008264463,0.0165289256198,0.0...</td>\n",
       "    </tr>\n",
       "    <tr>\n",
       "      <th>571924</th>\n",
       "      <td>vzla</td>\n",
       "      <td>wtf</td>\n",
       "      <td>68iqkcs</td>\n",
       "      <td>2017-04-30 15:50:07</td>\n",
       "      <td>1</td>\n",
       "      <td>68.0,58.0,0.764705882353,0.0,0.147058823529,0....</td>\n",
       "    </tr>\n",
       "    <tr>\n",
       "      <th>571925</th>\n",
       "      <td>denverbroncos</td>\n",
       "      <td>nfl</td>\n",
       "      <td>68iqt8</td>\n",
       "      <td>2017-04-30 16:11:30</td>\n",
       "      <td>-1</td>\n",
       "      <td>96.0,79.0,0.770833333333,0.0,0.0729166666667,0...</td>\n",
       "    </tr>\n",
       "    <tr>\n",
       "      <th>571926</th>\n",
       "      <td>shitpoliticssays</td>\n",
       "      <td>politicaldiscussion</td>\n",
       "      <td>68ir4os</td>\n",
       "      <td>2017-04-30 15:14:05</td>\n",
       "      <td>1</td>\n",
       "      <td>140.0,122.0,0.8,0.0,0.114285714286,0.135714285...</td>\n",
       "    </tr>\n",
       "  </tbody>\n",
       "</table>\n",
       "<p>571927 rows × 6 columns</p>\n",
       "</div>"
      ],
      "text/plain": [
       "         SOURCE_SUBREDDIT     TARGET_SUBREDDIT  POST_ID            TIMESTAMP  \\\n",
       "0              rddtgaming             rddtrust  1u4pzzs  2013-12-31 16:39:18   \n",
       "1                 xboxone        battlefield_4  1u4tmfs  2013-12-31 17:59:11   \n",
       "2                     ps4        battlefield_4  1u4tmos  2013-12-31 17:59:40   \n",
       "3       fitnesscirclejerk            leangains  1u50xfs  2013-12-31 19:01:56   \n",
       "4       fitnesscirclejerk          lifeprotips  1u51nps  2013-12-31 21:02:28   \n",
       "...                   ...                  ...      ...                  ...   \n",
       "571922    seattleshitshow            seattlewa   68iptp  2017-04-27 11:07:31   \n",
       "571923   peoplewhosayheck            spiderman  68iqh6s  2017-04-30 16:36:07   \n",
       "571924               vzla                  wtf  68iqkcs  2017-04-30 15:50:07   \n",
       "571925      denverbroncos                  nfl   68iqt8  2017-04-30 16:11:30   \n",
       "571926   shitpoliticssays  politicaldiscussion  68ir4os  2017-04-30 15:14:05   \n",
       "\n",
       "        LINK_SENTIMENT                                         PROPERTIES  \n",
       "0                    1  25.0,23.0,0.76,0.0,0.44,0.12,0.12,4.0,4.0,0.0,...  \n",
       "1                    1  100.0,88.0,0.78,0.02,0.08,0.13,0.07,16.0,16.0,...  \n",
       "2                    1  100.0,88.0,0.78,0.02,0.08,0.13,0.07,16.0,16.0,...  \n",
       "3                    1  49.0,43.0,0.775510204082,0.0,0.265306122449,0....  \n",
       "4                    1  14.0,14.0,0.785714285714,0.0,0.428571428571,0....  \n",
       "...                ...                                                ...  \n",
       "571922              -1  83.0,70.0,0.78313253012,0.0,0.10843373494,0.16...  \n",
       "571923               1  121.0,105.0,0.719008264463,0.0165289256198,0.0...  \n",
       "571924               1  68.0,58.0,0.764705882353,0.0,0.147058823529,0....  \n",
       "571925              -1  96.0,79.0,0.770833333333,0.0,0.0729166666667,0...  \n",
       "571926               1  140.0,122.0,0.8,0.0,0.114285714286,0.135714285...  \n",
       "\n",
       "[571927 rows x 6 columns]"
      ]
     },
     "execution_count": 6,
     "metadata": {},
     "output_type": "execute_result"
    }
   ],
   "source": [
    "import pandas as pd\n",
    "\n",
    "df = pd.read_csv('.\\soc-redditHyperlinks-title.tsv', sep='\\t', header=0)\n",
    "\n",
    "df"
   ]
  },
  {
   "cell_type": "code",
   "execution_count": 7,
   "id": "44a323c4",
   "metadata": {},
   "outputs": [],
   "source": [
    "import itertools as it\n",
    "import operator as op\n",
    "\n",
    "d = {}\n",
    "\n",
    "for i in range(len(df['SOURCE_SUBREDDIT'])):\n",
    "    src = df['SOURCE_SUBREDDIT'][i]\n",
    "    trg = df['TARGET_SUBREDDIT'][i]\n",
    "    key = src, trg\n",
    "    if key in d:\n",
    "        v = d[key]\n",
    "        v[2] = v[2] + 1\n",
    "    else:\n",
    "        d[key] = [src, trg, 1]"
   ]
  },
  {
   "cell_type": "code",
   "execution_count": 8,
   "id": "1129fb22",
   "metadata": {},
   "outputs": [
    {
     "data": {
      "text/plain": [
       ""
      ]
     },
     "execution_count": 8,
     "metadata": {},
     "output_type": "execute_result"
    }
   ],
   "source": [
    "dval = d.values()\n",
    "\n",
    "dval"
   ]
  },
  {
   "cell_type": "code",
   "execution_count": 9,
   "id": "39830047",
   "metadata": {},
   "outputs": [
    {
     "data": {
      "text/html": [
       "<div>\n",
       "<style scoped>\n",
       "    .dataframe tbody tr th:only-of-type {\n",
       "        vertical-align: middle;\n",
       "    }\n",
       "\n",
       "    .dataframe tbody tr th {\n",
       "        vertical-align: top;\n",
       "    }\n",
       "\n",
       "    .dataframe thead th {\n",
       "        text-align: right;\n",
       "    }\n",
       "</style>\n",
       "<table border=\"1\" class=\"dataframe\">\n",
       "  <thead>\n",
       "    <tr style=\"text-align: right;\">\n",
       "      <th></th>\n",
       "      <th>SOURCE_SUBREDDIT</th>\n",
       "      <th>TARGET_SUBREDDIT</th>\n",
       "      <th>WEIGHT</th>\n",
       "    </tr>\n",
       "  </thead>\n",
       "  <tbody>\n",
       "    <tr>\n",
       "      <th>0</th>\n",
       "      <td>rddtgaming</td>\n",
       "      <td>rddtrust</td>\n",
       "      <td>1.000000</td>\n",
       "    </tr>\n",
       "    <tr>\n",
       "      <th>1</th>\n",
       "      <td>xboxone</td>\n",
       "      <td>battlefield_4</td>\n",
       "      <td>1.000000</td>\n",
       "    </tr>\n",
       "    <tr>\n",
       "      <th>2</th>\n",
       "      <td>ps4</td>\n",
       "      <td>battlefield_4</td>\n",
       "      <td>0.250000</td>\n",
       "    </tr>\n",
       "    <tr>\n",
       "      <th>3</th>\n",
       "      <td>fitnesscirclejerk</td>\n",
       "      <td>leangains</td>\n",
       "      <td>0.045455</td>\n",
       "    </tr>\n",
       "    <tr>\n",
       "      <th>4</th>\n",
       "      <td>fitnesscirclejerk</td>\n",
       "      <td>lifeprotips</td>\n",
       "      <td>0.050000</td>\n",
       "    </tr>\n",
       "    <tr>\n",
       "      <th>...</th>\n",
       "      <td>...</td>\n",
       "      <td>...</td>\n",
       "      <td>...</td>\n",
       "    </tr>\n",
       "    <tr>\n",
       "      <th>234787</th>\n",
       "      <td>szechuansauceseekers</td>\n",
       "      <td>videos</td>\n",
       "      <td>1.000000</td>\n",
       "    </tr>\n",
       "    <tr>\n",
       "      <th>234788</th>\n",
       "      <td>nocontract</td>\n",
       "      <td>projectfi</td>\n",
       "      <td>1.000000</td>\n",
       "    </tr>\n",
       "    <tr>\n",
       "      <th>234789</th>\n",
       "      <td>peoplewhosayheck</td>\n",
       "      <td>dfsports</td>\n",
       "      <td>1.000000</td>\n",
       "    </tr>\n",
       "    <tr>\n",
       "      <th>234790</th>\n",
       "      <td>brasilonreddit</td>\n",
       "      <td>roadcam</td>\n",
       "      <td>1.000000</td>\n",
       "    </tr>\n",
       "    <tr>\n",
       "      <th>234791</th>\n",
       "      <td>peoplewhosayheck</td>\n",
       "      <td>spiderman</td>\n",
       "      <td>1.000000</td>\n",
       "    </tr>\n",
       "  </tbody>\n",
       "</table>\n",
       "<p>234792 rows × 3 columns</p>\n",
       "</div>"
      ],
      "text/plain": [
       "            SOURCE_SUBREDDIT TARGET_SUBREDDIT    WEIGHT\n",
       "0                 rddtgaming         rddtrust  1.000000\n",
       "1                    xboxone    battlefield_4  1.000000\n",
       "2                        ps4    battlefield_4  0.250000\n",
       "3          fitnesscirclejerk        leangains  0.045455\n",
       "4          fitnesscirclejerk      lifeprotips  0.050000\n",
       "...                      ...              ...       ...\n",
       "234787  szechuansauceseekers           videos  1.000000\n",
       "234788            nocontract        projectfi  1.000000\n",
       "234789      peoplewhosayheck         dfsports  1.000000\n",
       "234790        brasilonreddit          roadcam  1.000000\n",
       "234791      peoplewhosayheck        spiderman  1.000000\n",
       "\n",
       "[234792 rows x 3 columns]"
      ]
     },
     "execution_count": 9,
     "metadata": {},
     "output_type": "execute_result"
    }
   ],
   "source": [
    "df_out = pd.DataFrame({\"SOURCE_SUBREDDIT\":[sub[0] for sub in dval],\n",
    "                     \"TARGET_SUBREDDIT\":[sub[1] for sub in dval],\n",
    "                     \"WEIGHT\":[1/sub[2] for sub in dval]})\n",
    "df_out"
   ]
  },
  {
   "cell_type": "code",
   "execution_count": 10,
   "id": "e2e0205a",
   "metadata": {},
   "outputs": [],
   "source": [
    "df_out.to_csv('.\\soc-redditHyperlinks-title-parsed-fraction.csv', sep=\",\", index=False, header=False)"
   ]
  },
  {
   "cell_type": "code",
   "execution_count": 11,
   "id": "68d13e95",
   "metadata": {},
   "outputs": [],
   "source": [
    "import networkx as nx\n",
    "\n",
    "with open('.\\soc-redditHyperlinks-title-parsed-fraction.csv') as myfile:\n",
    "    head = [next(myfile) for x in range(3000)]\n",
    "    \n",
    "G = nx.read_weighted_edgelist(head, delimiter=\",\", create_using=nx.DiGraph())"
   ]
  },
  {
   "cell_type": "code",
   "execution_count": 133,
   "id": "2e1a714c",
   "metadata": {},
   "outputs": [
    {
     "data": {
      "image/png": "",
      "text/plain": [
       "<Figure size 3600x3600 with 1 Axes>"
      ]
     },
     "metadata": {},
     "output_type": "display_data"
    }
   ],
   "source": [
    "fig, ax = plt.subplots(figsize=(50,50))\n",
    "\n",
    "# pos = nx.spring_layout(G, k=1, iterations=1, scale=2)\n",
    "nx.draw_shell(G, node_size=100)"
   ]
  },
  {
   "cell_type": "code",
   "execution_count": 19,
   "id": "98628d65",
   "metadata": {},
   "outputs": [
    {
     "data": {
      "text/plain": [
       "5.884099715514577"
      ]
     },
     "execution_count": 19,
     "metadata": {},
     "output_type": "execute_result"
    }
   ],
   "source": [
    "import statistics\n",
    "from itertools import chain\n",
    "\n",
    "path_lengths = (x.values() for x in dict(nx.shortest_path_length(G)).values())\n",
    "statistics.mean(chain.from_iterable(path_lengths))"
   ]
  },
  {
   "cell_type": "code",
   "execution_count": 23,
   "id": "7c2dd569",
   "metadata": {},
   "outputs": [
    {
     "data": {
      "text/plain": []
     },
     "execution_count": 23,
     "metadata": {},
     "output_type": "execute_result"
    }
   ],
   "source": [
    "nx.shortest_path_length(G, target='askreddit')"
   ]
  },
  {
   "cell_type": "code",
   "execution_count": 12,
   "id": "b1d828f6",
   "metadata": {},
   "outputs": [
    {
     "data": {
      "text/plain": [
       "0.25"
      ]
     },
     "execution_count": 12,
     "metadata": {},
     "output_type": "execute_result"
    }
   ],
   "source": [
    "nx.dijkstra_path_length(G, 'ps4', 'battlefield_4')"
   ]
  },
  {
   "cell_type": "code",
   "execution_count": 24,
   "id": "9401652d",
   "metadata": {},
   "outputs": [
    {
     "data": {
      "text/plain": [
       "1.7970507986464566"
      ]
     },
     "execution_count": 24,
     "metadata": {},
     "output_type": "execute_result"
    }
   ],
   "source": [
    "import statistics\n",
    "from itertools import chain\n",
    "\n",
    "path_lengths = (dist.values() for (dist, path) in dict(nx.all_pairs_dijkstra(G)).values())\n",
    "statistics.mean(chain.from_iterable(path_lengths))"
   ]
  },
  {
   "cell_type": "code",
   "execution_count": 82,
   "id": "319e77fb",
   "metadata": {},
   "outputs": [
    {
     "data": {
      "text/plain": []
     },
     "execution_count": 82,
     "metadata": {},
     "output_type": "execute_result"
    }
   ],
   "source": [
    "dict(nx.all_pairs_dijkstra(G))['fitnesscirclejerk'][1]"
   ]
  },
  {
   "cell_type": "code",
   "execution_count": 26,
   "id": "b5cf47bb",
   "metadata": {},
   "outputs": [
    {
     "data": {
      "text/plain": []
     },
     "execution_count": 26,
     "metadata": {},
     "output_type": "execute_result"
    }
   ],
   "source": [
    "largest = max(nx.strongly_connected_components(G), key=len)\n",
    "\n",
    "largest"
   ]
  },
  {
   "cell_type": "code",
   "execution_count": 45,
   "id": "388e90f8",
   "metadata": {},
   "outputs": [
    {
     "name": "stdout",
     "output_type": "stream",
     "text": []
    },
    {
     "name": "stdout",
     "output_type": "stream",
     "text": []
    }
   ],
   "source": [
    "for c in sorted(nx.strongly_connected_components(G), key=len, reverse=True):\n",
    "    print(len(c), c)"
   ]
  },
  {
   "cell_type": "code",
   "execution_count": 41,
   "id": "c5ba9029",
   "metadata": {},
   "outputs": [
    {
     "name": "stdout",
     "output_type": "stream",
     "text": []
    }
   ],
   "source": [
    "for c in sorted(nx.weakly_connected_components(G), key=len, reverse=True):\n",
    "    if (len(c) < 10):\n",
    "        print(len(c), c)\n",
    "    else:\n",
    "        print(len(c), '{...}')"
   ]
  },
  {
   "cell_type": "code",
   "execution_count": 50,
   "id": "c4890f92",
   "metadata": {},
   "outputs": [
    {
     "name": "stdout",
     "output_type": "stream",
     "text": [
      "Strongly connected:  0.05620608899297424\n",
      "Weakly connected:  0.7480093676814988\n"
     ]
    }
   ],
   "source": [
    "nodes_num = len(G.nodes())\n",
    "strong = len(max(nx.strongly_connected_components(G), key=len))\n",
    "weak = len(max(nx.weakly_connected_components(G), key=len))\n",
    "\n",
    "print('Strongly connected: ', strong / nodes_num)\n",
    "print('Weakly connected: ', weak / nodes_num)"
   ]
  },
  {
   "cell_type": "code",
   "execution_count": 52,
   "id": "2f803c42",
   "metadata": {},
   "outputs": [
    {
     "name": "stdout",
     "output_type": "stream",
     "text": [
      "The mean shortest path length of the network:  5.884099715514577\n",
      "The mean weighted shortest path length of the network:  1.7970507986464566\n"
     ]
    }
   ],
   "source": [
    "import statistics\n",
    "from itertools import chain\n",
    "\n",
    "path_lengths = (x.values() for x in dict(nx.shortest_path_length(G)).values())\n",
    "mean = statistics.mean(chain.from_iterable(path_lengths))\n",
    "path_lengths_weighted = (dist.values() for (dist, path) in dict(nx.all_pairs_dijkstra(G)).values())\n",
    "mean_weighted = statistics.mean(chain.from_iterable(path_lengths_weighted))\n",
    "\n",
    "print('The mean shortest path length of the network: ', mean)\n",
    "print('The mean weighted shortest path length of the network: ', mean_weighted)"
   ]
  },
  {
   "cell_type": "code",
   "execution_count": 107,
   "id": "650518aa",
   "metadata": {},
   "outputs": [
    {
     "data": {
      "text/plain": [
       "{'weight': 1.3160597572362278, 'dist': 4}"
      ]
     },
     "execution_count": 107,
     "metadata": {},
     "output_type": "execute_result"
    }
   ],
   "source": [
    "shortest_path_lengths = dict(nx.all_pairs_dijkstra(G, weight=None))\n",
    "data = {}\n",
    "\n",
    "for key in shortest_path_lengths:\n",
    "    data[key] = {}\n",
    "    for target in shortest_path_lengths[key][1]:\n",
    "        data[key][target] = {}\n",
    "        data[key][target]['weight'] = 0\n",
    "        path = shortest_path_lengths[key][1][target]\n",
    "        data[key][target]['dist'] = shortest_path_lengths[key][0][target]\n",
    "        for i in range(len(path)):\n",
    "            if i == 0:\n",
    "                edge = G.get_edge_data(key, path[i])\n",
    "                if edge is not None:\n",
    "                    data[key][target]['weight'] = data[key][target]['weight'] + edge['weight']\n",
    "            else:\n",
    "                edge = G.get_edge_data(path[i-1], path[i])\n",
    "                if edge is not None:\n",
    "                    data[key][target]['weight'] = data[key][target]['weight'] + edge['weight']\n",
    "\n",
    "data['languagelearning']['technology']"
   ]
  },
  {
   "cell_type": "code",
   "execution_count": 128,
   "id": "b3273a65",
   "metadata": {},
   "outputs": [
    {
     "name": "stdout",
     "output_type": "stream",
     "text": [
      "The mean shortest path length of the network:  5.884099715514577\n",
      "The mean weigh of these paths:  2.666556564286347\n"
     ]
    }
   ],
   "source": [
    "import statistics\n",
    "from itertools import chain\n",
    "\n",
    "path_lengths = []\n",
    "path_weights = []\n",
    "for targets in weight.values():\n",
    "    for target in targets:\n",
    "        path_weights.append(targets[target]['weight'])\n",
    "        path_lengths.append(targets[target]['dist'])\n",
    "        \n",
    "mean = statistics.mean(path_lengths)\n",
    "mean_weighted = statistics.mean(path_weights)\n",
    "\n",
    "print('The mean shortest path length of the network: ', mean)\n",
    "print('The mean weigh of these paths: ', mean_weighted)"
   ]
  },
  {
   "cell_type": "code",
   "execution_count": 31,
   "id": "d2319259",
   "metadata": {},
   "outputs": [
    {
     "data": {
      "text/plain": [
       "2135"
      ]
     },
     "execution_count": 31,
     "metadata": {},
     "output_type": "execute_result"
    }
   ],
   "source": [
    "len(G.nodes())"
   ]
  },
  {
   "cell_type": "code",
   "execution_count": 20,
   "id": "a9c6e5f0",
   "metadata": {},
   "outputs": [
    {
     "data": {
      "text/plain": [
       "'IGRAPH UNW- 54075 234792 -- \\n+ attr: label (v), name (v), weight (e)'"
      ]
     },
     "execution_count": 20,
     "metadata": {},
     "output_type": "execute_result"
    }
   ],
   "source": [
    "from igraph import *\n",
    "\n",
    "def parse_string(x, max_len=100):\n",
    "    out = 'NONE'\n",
    "    try:\n",
    "        out = str(x.encode('ascii'))[:max_len]\n",
    "    except:\n",
    "        pass\n",
    "    return out\n",
    "\n",
    "\n",
    "def read_file(\n",
    "    filename,\n",
    "    directed=True,\n",
    "    etype_names=None,\n",
    "    header=False,\n",
    "    ):\n",
    "\n",
    "    edgelist = []\n",
    "    etypes = []\n",
    "    names = UniqueIdGenerator()\n",
    "    header_info = []\n",
    "    with open(filename) as fp:\n",
    "        data = fp.readlines()\n",
    "        for line in data:\n",
    "            line = line.strip().split(',')\n",
    "            if header:\n",
    "                header_info = line\n",
    "                header = False\n",
    "                continue\n",
    "            n1 = names[line[0]]\n",
    "            n2 = names[line[1]]\n",
    "            edgelist.append((n1, n2))\n",
    "            if etype_names is not None and len(line) \\\n",
    "                == len(etype_names) + 2:\n",
    "                etypes.append(tuple(line[2:]))\n",
    "    g = Graph(edgelist, directed=directed)\n",
    "    g.vs['name'] = [names.reverse_dict()[vid.index] for vid in g.vs]\n",
    "    g.vs['label'] = [parse_string(v) for v in g.vs['name']]\n",
    "    if etype_names is not None:\n",
    "        for (k, v) in zip(etype_names, zip(*etypes)):\n",
    "            g.es[k] = v\n",
    "    return g\n",
    "\n",
    "\n",
    "etype_names = ['weight']\n",
    "g = read_file('soc-redditHyperlinks-title-parsed.csv', etype_names=etype_names, directed=False,\n",
    "              header=False)\n",
    "\n",
    "g.summary()"
   ]
  },
  {
   "cell_type": "code",
   "execution_count": 2,
   "id": "2b8ef104",
   "metadata": {},
   "outputs": [
    {
     "ename": "NameError",
     "evalue": "name 'g' is not defined",
     "output_type": "error",
     "traceback": [
      "\u001b[1;31m---------------------------------------------------------------------------\u001b[0m",
      "\u001b[1;31mNameError\u001b[0m                                 Traceback (most recent call last)",
      "\u001b[1;32m~\\AppData\\Local\\Temp/ipykernel_4584/568309246.py\u001b[0m in \u001b[0;36m<module>\u001b[1;34m\u001b[0m\n\u001b[0;32m      1\u001b[0m \u001b[0mvisual_style\u001b[0m \u001b[1;33m=\u001b[0m \u001b[1;33m{\u001b[0m\u001b[1;33m}\u001b[0m\u001b[1;33m\u001b[0m\u001b[1;33m\u001b[0m\u001b[0m\n\u001b[0;32m      2\u001b[0m \u001b[0mvisual_style\u001b[0m\u001b[1;33m[\u001b[0m\u001b[1;34m\"vertex_size\"\u001b[0m\u001b[1;33m]\u001b[0m \u001b[1;33m=\u001b[0m \u001b[1;36m20\u001b[0m\u001b[1;33m\u001b[0m\u001b[1;33m\u001b[0m\u001b[0m\n\u001b[1;32m----> 3\u001b[1;33m \u001b[0mvisual_style\u001b[0m\u001b[1;33m[\u001b[0m\u001b[1;34m\"vertex_label\"\u001b[0m\u001b[1;33m]\u001b[0m \u001b[1;33m=\u001b[0m \u001b[0mg\u001b[0m\u001b[1;33m.\u001b[0m\u001b[0mvs\u001b[0m\u001b[1;33m[\u001b[0m\u001b[1;34m\"name\"\u001b[0m\u001b[1;33m]\u001b[0m\u001b[1;33m\u001b[0m\u001b[1;33m\u001b[0m\u001b[0m\n\u001b[0m\u001b[0;32m      4\u001b[0m \u001b[0mvisual_style\u001b[0m\u001b[1;33m[\u001b[0m\u001b[1;34m\"layout\"\u001b[0m\u001b[1;33m]\u001b[0m \u001b[1;33m=\u001b[0m \u001b[0mg\u001b[0m\u001b[1;33m.\u001b[0m\u001b[0mlayout\u001b[0m\u001b[1;33m(\u001b[0m\u001b[1;34m\"kk\"\u001b[0m\u001b[1;33m)\u001b[0m\u001b[1;33m\u001b[0m\u001b[1;33m\u001b[0m\u001b[0m\n\u001b[0;32m      5\u001b[0m \u001b[0mvisual_style\u001b[0m\u001b[1;33m[\u001b[0m\u001b[1;34m\"bbox\"\u001b[0m\u001b[1;33m]\u001b[0m \u001b[1;33m=\u001b[0m \u001b[1;33m(\u001b[0m\u001b[1;36m300\u001b[0m\u001b[1;33m,\u001b[0m \u001b[1;36m300\u001b[0m\u001b[1;33m)\u001b[0m\u001b[1;33m\u001b[0m\u001b[1;33m\u001b[0m\u001b[0m\n",
      "\u001b[1;31mNameError\u001b[0m: name 'g' is not defined"
     ]
    }
   ],
   "source": [
    "visual_style = {}\n",
    "visual_style[\"vertex_size\"] = 20\n",
    "visual_style[\"vertex_label\"] = g.vs[\"name\"]\n",
    "visual_style[\"layout\"] = g.layout(\"kk\")\n",
    "visual_style[\"bbox\"] = (300, 300)\n",
    "visual_style[\"margin\"] = 20\n",
    "\n",
    "plot(g, \"result.pdf\", visual_style)"
   ]
  },
  {
   "cell_type": "code",
   "execution_count": null,
   "id": "325b06f9",
   "metadata": {},
   "outputs": [],
   "source": []
  }
 ],
 "metadata": {
  "kernelspec": {
   "display_name": "Python 3 (ipykernel)",
   "language": "python",
   "name": "python3"
  },
  "language_info": {
   "codemirror_mode": {
    "name": "ipython",
    "version": 3
   },
   "file_extension": ".py",
   "mimetype": "text/x-python",
   "name": "python",
   "nbconvert_exporter": "python",
   "pygments_lexer": "ipython3",
   "version": "3.8.5"
  }
 },
 "nbformat": 4,
 "nbformat_minor": 5
}
